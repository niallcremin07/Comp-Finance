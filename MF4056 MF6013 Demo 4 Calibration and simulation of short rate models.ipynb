{
 "cells": [
  {
   "cell_type": "markdown",
   "id": "66d7ab65",
   "metadata": {},
   "source": [
    "# MF4056 MF6013 Demo 4 Calibration and simulation of short rate models"
   ]
  },
  {
   "cell_type": "code",
   "execution_count": null,
   "id": "e68e32a8",
   "metadata": {},
   "outputs": [],
   "source": [
    "import numpy as np\n",
    "import matplotlib.pyplot as plt\n",
    "\n",
    "rng=np.random.default_rng()"
   ]
  },
  {
   "cell_type": "markdown",
   "id": "4a3faf5c",
   "metadata": {},
   "source": [
    "## Part 1: Calibrating the Ho-Lee model to the instantaneous forward curve."
   ]
  },
  {
   "cell_type": "markdown",
   "id": "4c768a03",
   "metadata": {},
   "source": [
    "Upload the data from Table 1 in Notes Set 4"
   ]
  },
  {
   "cell_type": "code",
   "execution_count": null,
   "id": "ff9b755f",
   "metadata": {},
   "outputs": [],
   "source": [
    "mat = np.array([0,0.5,1.0,1.5,2.0])\n",
    "rates = np.array([0,0.02,0.022,0.025,0.03])\n",
    "\n",
    "def dFac(r,t):\n",
    "    return np.exp(-r*t)\n",
    "\n",
    "T = 2.0; N=4; dt=T/N\n",
    "t = np.arange(0,2+dt,dt)"
   ]
  },
  {
   "cell_type": "markdown",
   "id": "96b5a71f",
   "metadata": {},
   "source": [
    "Compute bond prices and logs thereof"
   ]
  },
  {
   "cell_type": "code",
   "execution_count": null,
   "id": "fe41c939",
   "metadata": {},
   "outputs": [],
   "source": [
    "bonds=100*dFac(rates,mat)\n",
    "logBonds=np.log(bonds)"
   ]
  },
  {
   "cell_type": "markdown",
   "id": "47073ae9",
   "metadata": {},
   "source": [
    "Use the approximate relation $f(0,T_i)\\approx-(\\ln(P(0,T_i))-ln(P(0,T_{i-1})))/(T_i-t_{i-1})$ to compute values on the initial instantaneous forward curve."
   ]
  },
  {
   "cell_type": "code",
   "execution_count": null,
   "id": "5c981309",
   "metadata": {},
   "outputs": [],
   "source": [
    "f=np.ones(len(mat)-1)\n",
    "for i in range(len(mat)-1):\n",
    "    f[i]=-(logBonds[i+1]-logBonds[i])/(mat[i+1]-mat[i])\n",
    "\n",
    "f=np.insert(f,0,0.02)\n",
    "f"
   ]
  },
  {
   "cell_type": "markdown",
   "id": "92f17dc6",
   "metadata": {},
   "source": [
    "Use the values of $f(0,T_i)$, $i=0,\\ldots,4$ to generate trajectories on the Ho-Lee model."
   ]
  },
  {
   "cell_type": "code",
   "execution_count": null,
   "id": "904f4bd8",
   "metadata": {},
   "outputs": [],
   "source": [
    "M=50\n",
    "sig=0.015\n",
    "incd5 = rng.normal(0, np.sqrt(dt), (M,N))\n",
    "r0=0.01\n",
    "r=r0*np.ones((M,len(f)))\n",
    "\n",
    "for i in range(len(f)-1):\n",
    "    r[:,i+1]=r[:,i]+(f[i+1]-f[i])+0.5*(sig**2)*(t[i+1]**2-t[i]**2)+sig*incd5[:,i]"
   ]
  },
  {
   "cell_type": "code",
   "execution_count": null,
   "id": "556fae6e",
   "metadata": {},
   "outputs": [],
   "source": [
    "fig, ax1 = plt.subplots(figsize=(15, 10))\n",
    "plt.grid(axis='both', color='0.95')\n",
    "plt.xlabel('$t$',fontsize=20)\n",
    "plt.ylabel('$r(t)$',fontsize=20)\n",
    "plt.xticks(fontsize=20)\n",
    "plt.yticks(fontsize=20)\n",
    "plt.plot(t,r.T)\n",
    "plt.plot(t,np.zeros(len(t)), color='black',linewidth=1.0)"
   ]
  },
  {
   "cell_type": "markdown",
   "id": "0cef1fd2",
   "metadata": {},
   "source": [
    "## Part 2: Generating yield curves from the Vasicek model"
   ]
  },
  {
   "cell_type": "markdown",
   "id": "3c93ab87",
   "metadata": {},
   "source": [
    "Set up model parameters"
   ]
  },
  {
   "cell_type": "code",
   "execution_count": null,
   "id": "5fa41111",
   "metadata": {},
   "outputs": [],
   "source": [
    "alpha = 0.4; b=0.05; sigma=0.015\n",
    "T=20; N=2000; dt=T/N;\n",
    "t=np.linspace(0,T,N+1)"
   ]
  },
  {
   "cell_type": "markdown",
   "id": "692d7f37",
   "metadata": {},
   "source": [
    "Define Python functions for the mathematical functions $A(\\tau)$, $B(\\tau)$, and $R(\\tau,r_0)$."
   ]
  },
  {
   "cell_type": "code",
   "execution_count": null,
   "id": "ecdba0ee",
   "metadata": {},
   "outputs": [],
   "source": [
    "def B(tau):\n",
    "    return (1/alpha)*(1-np.exp(-alpha*(tau)))\n",
    "\n",
    "def A(tau):\n",
    "    return (B(tau)-tau)*(b-(sigma**2/2)/alpha**2)-(B(tau)**2)*(sigma**2)/(4*alpha)\n",
    "\n",
    "def R(tau,rInit):\n",
    "    return -A(tau)/tau+rInit*B(tau)/tau"
   ]
  },
  {
   "cell_type": "markdown",
   "id": "2ef6a5fc",
   "metadata": {},
   "source": [
    "Produce arrays containing values of $R(\\tau,r_0)$, where $\\tau\\in[0,T]$, and we separately generate yield curves for each of $r_0=0.01,0.045,0.055,0.07$."
   ]
  },
  {
   "cell_type": "code",
   "execution_count": null,
   "id": "f83b98e8",
   "metadata": {},
   "outputs": [],
   "source": [
    "yieldCurve1=np.ones(len(t)-1)\n",
    "\n",
    "for i in range(1,len(t)-1):\n",
    "    yieldCurve1[i-1]=R(t[i],0.01)\n",
    "    \n",
    "yieldCurve2=np.ones(len(t)-1)\n",
    "\n",
    "for i in range(1,len(t)-1):\n",
    "    yieldCurve2[i-1]=R(t[i],0.045)\n",
    "    \n",
    "yieldCurve3=np.ones(len(t)-1)\n",
    "\n",
    "for i in range(1,len(t)-1):\n",
    "    yieldCurve3[i-1]=R(t[i],0.055)\n",
    "    \n",
    "yieldCurve4=np.ones(len(t)-1)\n",
    "\n",
    "for i in range(1,len(t)-1):\n",
    "    yieldCurve4[i-1]=R(t[i],0.07)"
   ]
  },
  {
   "cell_type": "code",
   "execution_count": null,
   "id": "91b7ffad",
   "metadata": {},
   "outputs": [],
   "source": [
    "fig, ax1 = plt.subplots(figsize=(15, 10))\n",
    "plt.grid(axis='both', color='0.95')\n",
    "plt.xlabel('$T$',fontsize=20)\n",
    "plt.ylabel('R(0,T)',fontsize=20)\n",
    "plt.xticks(fontsize=20)\n",
    "plt.yticks(fontsize=20)\n",
    "\n",
    "\n",
    "plt.plot(t[1:-1],yieldCurve1[:-1])\n",
    "plt.plot(t[1:-1],yieldCurve2[:-1])\n",
    "plt.plot(t[1:-1],yieldCurve3[:-1])\n",
    "plt.plot(t[1:-1],yieldCurve4[:-1])\n",
    "ax1.legend(['$r_0=0.01$','$r_0=0.045$','$r_0=0.055$','$r_0=0.07$'],fontsize=20)\n",
    "\n",
    "plt.plot(t,b*np.ones(len(t)), color='black', linestyle='dotted',linewidth=1.0)"
   ]
  },
  {
   "cell_type": "code",
   "execution_count": null,
   "id": "4ef20460",
   "metadata": {},
   "outputs": [],
   "source": []
  }
 ],
 "metadata": {
  "kernelspec": {
   "display_name": "Python 3 (ipykernel)",
   "language": "python",
   "name": "python3"
  },
  "language_info": {
   "codemirror_mode": {
    "name": "ipython",
    "version": 3
   },
   "file_extension": ".py",
   "mimetype": "text/x-python",
   "name": "python",
   "nbconvert_exporter": "python",
   "pygments_lexer": "ipython3",
   "version": "3.11.5"
  }
 },
 "nbformat": 4,
 "nbformat_minor": 5
}
