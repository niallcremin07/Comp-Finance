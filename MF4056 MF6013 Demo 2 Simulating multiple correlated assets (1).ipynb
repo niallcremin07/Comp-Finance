{
 "cells": [
  {
   "cell_type": "markdown",
   "id": "9cd41f0f",
   "metadata": {},
   "source": [
    "# MF4056 MF6013 Demo 2 Simulating multiple correlated assets"
   ]
  },
  {
   "cell_type": "code",
   "execution_count": null,
   "id": "354bb582",
   "metadata": {},
   "outputs": [],
   "source": [
    "import numpy as np\n",
    "import matplotlib.pyplot as plt\n",
    "\n",
    "rng=np.random.default_rng()"
   ]
  },
  {
   "cell_type": "markdown",
   "id": "b1e5436c",
   "metadata": {},
   "source": [
    "# Part 1: Generate trajectories of a pair of correlated standard Brownian motions "
   ]
  },
  {
   "cell_type": "markdown",
   "id": "1fa45d7f",
   "metadata": {},
   "source": [
    "Take 100 uniform steps in time over the interval $[0,1]$"
   ]
  },
  {
   "cell_type": "code",
   "execution_count": null,
   "id": "ea47dd08",
   "metadata": {},
   "outputs": [],
   "source": [
    "N=100; T=1; rho=-0.4;\n",
    "dt=T/N"
   ]
  },
  {
   "cell_type": "markdown",
   "id": "bd6fbc83",
   "metadata": {},
   "source": [
    "Sample independent Gaussian values"
   ]
  },
  {
   "cell_type": "code",
   "execution_count": null,
   "id": "b8853ef8",
   "metadata": {},
   "outputs": [],
   "source": [
    "Z=rng.normal(0,1,(2,N))"
   ]
  },
  {
   "cell_type": "markdown",
   "id": "bb12e90d",
   "metadata": {},
   "source": [
    "Construct covariance matrix and Cholesky factorisation"
   ]
  },
  {
   "cell_type": "code",
   "execution_count": null,
   "id": "05ba1580",
   "metadata": {},
   "outputs": [],
   "source": [
    "Sigma=np.array([[1,rho], [rho,1]])\n",
    "A=np.sqrt(dt)*np.linalg.cholesky(Sigma)"
   ]
  },
  {
   "cell_type": "markdown",
   "id": "2dc4c534",
   "metadata": {},
   "source": [
    "Generate correlated increments for $W$"
   ]
  },
  {
   "cell_type": "code",
   "execution_count": null,
   "id": "749bca76",
   "metadata": {},
   "outputs": [],
   "source": [
    "X=A.dot(Z)"
   ]
  },
  {
   "cell_type": "markdown",
   "id": "363666fd",
   "metadata": {},
   "source": [
    "Aggregate to construct the trajectory. Remember to insert the initial values $[W_1(0),W_2(0)]^T=[0,0]^T$ and create a time set."
   ]
  },
  {
   "cell_type": "code",
   "execution_count": null,
   "id": "c2e0c6f9",
   "metadata": {},
   "outputs": [],
   "source": [
    "W=np.c_[np.zeros(2),np.cumsum(X, axis=1)]\n",
    "t=np.linspace(0,T,N+1)"
   ]
  },
  {
   "cell_type": "markdown",
   "id": "02b2085b",
   "metadata": {},
   "source": [
    "Now plot the Brownian pair."
   ]
  },
  {
   "cell_type": "code",
   "execution_count": null,
   "id": "50dfb6b5",
   "metadata": {},
   "outputs": [],
   "source": [
    "plt.plot(t,W.T)\n",
    "plt.show()\n",
    "#print(len(t)); len(W[0,:])"
   ]
  },
  {
   "cell_type": "markdown",
   "id": "d17fc984",
   "metadata": {},
   "source": [
    "# Part 2: Generate trajectories from a pair of Black-Scholes asset models"
   ]
  },
  {
   "cell_type": "markdown",
   "id": "16e59cce",
   "metadata": {},
   "source": [
    "We can now simulate trajectories for pricing under the risk-neutral measure $\\mathbb{Q}$ of the pair of correlated asset models $S=[S_1,S_2]^T$. Set up model parameters:"
   ]
  },
  {
   "cell_type": "code",
   "execution_count": null,
   "id": "7ecbb268",
   "metadata": {},
   "outputs": [],
   "source": [
    "T=1; r=0.03; sig=np.array([0.2,0.3]); S0=np.ones(2)"
   ]
  },
  {
   "cell_type": "markdown",
   "id": "97ebc1a6",
   "metadata": {},
   "source": [
    "Simulation parameters (note the use of np.tile()):"
   ]
  },
  {
   "cell_type": "code",
   "execution_count": null,
   "id": "c161c2ae",
   "metadata": {},
   "outputs": [],
   "source": [
    "N=100; dt=T/N; t=np.linspace(0,1,N+1)\n",
    "tt=np.tile(t,(2,1))"
   ]
  },
  {
   "cell_type": "markdown",
   "id": "ef2d0684",
   "metadata": {},
   "source": [
    "Compute asset price values:"
   ]
  },
  {
   "cell_type": "code",
   "execution_count": null,
   "id": "637d25e0",
   "metadata": {},
   "outputs": [],
   "source": [
    "S=S0*np.exp((r-0.5*sig**2)*tt.T+sig*W.T)"
   ]
  },
  {
   "cell_type": "markdown",
   "id": "63eb82fd",
   "metadata": {},
   "source": [
    "Plot the asset price trajectories:"
   ]
  },
  {
   "cell_type": "markdown",
   "id": "271dbafb",
   "metadata": {},
   "source": [
    "How does np.tile() work?"
   ]
  },
  {
   "cell_type": "code",
   "execution_count": null,
   "id": "4688710a",
   "metadata": {
    "scrolled": true
   },
   "outputs": [],
   "source": [
    "plt.plot(t,S)\n",
    "plt.show()"
   ]
  },
  {
   "cell_type": "code",
   "execution_count": null,
   "id": "7cf1efc2",
   "metadata": {},
   "outputs": [],
   "source": [
    "tDemo=np.linspace(0,1,5)"
   ]
  },
  {
   "cell_type": "code",
   "execution_count": null,
   "id": "60596fc7",
   "metadata": {},
   "outputs": [],
   "source": [
    "a=np.array([2,4])"
   ]
  },
  {
   "cell_type": "code",
   "execution_count": null,
   "id": "b05b6e70",
   "metadata": {},
   "outputs": [],
   "source": [
    "tt=np.tile(tDemo,(2,1))"
   ]
  },
  {
   "cell_type": "code",
   "execution_count": null,
   "id": "62ca16ad",
   "metadata": {},
   "outputs": [],
   "source": [
    "new=(a*tt.T).T"
   ]
  },
  {
   "cell_type": "code",
   "execution_count": null,
   "id": "e8be8896",
   "metadata": {},
   "outputs": [],
   "source": [
    "print(new)"
   ]
  },
  {
   "cell_type": "code",
   "execution_count": null,
   "id": "1ead292e",
   "metadata": {},
   "outputs": [],
   "source": [
    "tDemo"
   ]
  },
  {
   "cell_type": "code",
   "execution_count": null,
   "id": "5b5719f3",
   "metadata": {},
   "outputs": [],
   "source": []
  },
  {
   "cell_type": "code",
   "execution_count": null,
   "id": "58c71535",
   "metadata": {},
   "outputs": [],
   "source": []
  },
  {
   "cell_type": "code",
   "execution_count": null,
   "id": "6f7dd676",
   "metadata": {},
   "outputs": [],
   "source": []
  },
  {
   "cell_type": "code",
   "execution_count": null,
   "id": "177453ad",
   "metadata": {},
   "outputs": [],
   "source": []
  },
  {
   "cell_type": "code",
   "execution_count": null,
   "id": "1ca11fc1",
   "metadata": {},
   "outputs": [],
   "source": []
  },
  {
   "cell_type": "code",
   "execution_count": null,
   "id": "208aff16",
   "metadata": {},
   "outputs": [],
   "source": []
  },
  {
   "cell_type": "code",
   "execution_count": null,
   "id": "9a8f7a4c",
   "metadata": {},
   "outputs": [],
   "source": []
  },
  {
   "cell_type": "code",
   "execution_count": null,
   "id": "a2e0e13c",
   "metadata": {},
   "outputs": [],
   "source": []
  }
 ],
 "metadata": {
  "kernelspec": {
   "display_name": "Python 3 (ipykernel)",
   "language": "python",
   "name": "python3"
  },
  "language_info": {
   "codemirror_mode": {
    "name": "ipython",
    "version": 3
   },
   "file_extension": ".py",
   "mimetype": "text/x-python",
   "name": "python",
   "nbconvert_exporter": "python",
   "pygments_lexer": "ipython3",
   "version": "3.11.5"
  }
 },
 "nbformat": 4,
 "nbformat_minor": 5
}
