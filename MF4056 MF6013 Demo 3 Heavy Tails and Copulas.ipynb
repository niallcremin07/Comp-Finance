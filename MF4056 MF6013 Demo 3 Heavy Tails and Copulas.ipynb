{
 "cells": [
  {
   "cell_type": "code",
   "execution_count": null,
   "id": "06f2c9af",
   "metadata": {},
   "outputs": [],
   "source": [
    "import numpy as np\n",
    "import matplotlib.pyplot as plt\n",
    "import scipy.stats as stats\n",
    "\n",
    "rng=np.random.default_rng()"
   ]
  },
  {
   "cell_type": "markdown",
   "id": "77d84322",
   "metadata": {},
   "source": [
    "# MF4056 MF6013 Demo 3: Heavy Tails and Copulas"
   ]
  },
  {
   "cell_type": "markdown",
   "id": "4bae91a1",
   "metadata": {},
   "source": [
    "## Part 1: Generate bivariate centred Normal samples"
   ]
  },
  {
   "cell_type": "markdown",
   "id": "8cf7b79a",
   "metadata": {},
   "source": [
    "Set up three matrices capturing positive, zero, and negative correlations respectively. Note the scaling with respect to $\\nu$, to ensure that the covariance matrices for the Student's $t_\\nu$ samples will be the same."
   ]
  },
  {
   "cell_type": "code",
   "execution_count": null,
   "id": "52275c79",
   "metadata": {},
   "outputs": [],
   "source": [
    "rhoP = 0.8; rhoM = -0.8; rhoZ = 0; nu = 2.000001; M=10**3\n",
    "\n",
    "SigmaP = ((nu-2)/nu)*np.array([[1, rhoP],[rhoP, 1]])\n",
    "SigmaM = ((nu-2)/nu)*np.array([[1, rhoM],[rhoM, 1]])\n",
    "SigmaZ = ((nu-2)/nu)*np.array([[1, rhoZ],[rhoZ, 1]])"
   ]
  },
  {
   "cell_type": "markdown",
   "id": "46bb1343",
   "metadata": {},
   "source": [
    "Use the Cholesky factor in each case to generate $M$ samples from three bivariate centred Normal distributions with covariance matrix $\\frac{\\nu-2}{\\nu}\\Sigma$."
   ]
  },
  {
   "cell_type": "code",
   "execution_count": null,
   "id": "3fbb1d5d",
   "metadata": {},
   "outputs": [],
   "source": [
    "AP = np.linalg.cholesky(SigmaP)\n",
    "AM = np.linalg.cholesky(SigmaM)\n",
    "AZ = np.linalg.cholesky(SigmaZ)\n",
    "\n",
    "Y = rng.normal(0,1,(2,M))\n",
    "\n",
    "ZP = AP.dot(Y)\n",
    "ZM = AM.dot(Y)\n",
    "ZZ = AZ.dot(Y)"
   ]
  },
  {
   "cell_type": "markdown",
   "id": "6f7dc508",
   "metadata": {},
   "source": [
    "Illustrate the distribution with a scatterplot and marginal histograms. Change the definition of $x$ and $y$ to see the difference between correlation values."
   ]
  },
  {
   "cell_type": "code",
   "execution_count": null,
   "id": "03f58dfd",
   "metadata": {},
   "outputs": [],
   "source": [
    "x=ZM[0,:]\n",
    "y=ZM[1,:]\n",
    "\n",
    "def scatter_hist(x, y, ax, ax_histx, ax_histy):\n",
    "    # no labels\n",
    "    ax_histx.tick_params(axis=\"x\", labelbottom=False)\n",
    "    ax_histy.tick_params(axis=\"y\", labelleft=False)\n",
    "\n",
    "    # the scatter plot:\n",
    "    ax.scatter(x, y,marker=\".\")\n",
    "    #ax = plt.gca().secondary_xaxis('top')\n",
    "    ax.set_xlabel('$X_1$',fontsize=20)\n",
    "    ax.set_ylabel('$X_2$',fontsize=20)\n",
    "    ax.tick_params(axis='x', labelsize=20)\n",
    "    ax.tick_params(axis='y', labelsize=20)\n",
    "\n",
    "    \n",
    "    # now determine nice limits by hand:\n",
    "    binwidth = 0.0001\n",
    "    xymax = max(np.max(np.abs(x)), np.max(np.abs(y)))\n",
    "    lim = (int(xymax/binwidth) + 1) * binwidth\n",
    "\n",
    "    bins = np.arange(-lim, lim + binwidth, binwidth)\n",
    "    ax_histx.hist(x, bins=bins,density=True)\n",
    "    ax_histy.hist(y, bins=bins, orientation='horizontal',density=True)"
   ]
  },
  {
   "cell_type": "code",
   "execution_count": null,
   "id": "f443e3d6",
   "metadata": {},
   "outputs": [],
   "source": [
    "fig = plt.figure(figsize=(10, 10))\n",
    "gs = fig.add_gridspec(2, 2,  width_ratios=(4, 1), height_ratios=(1, 4), left=0.1, right=0.9, bottom=0.1, top=0.9, wspace=0.05, hspace=0.05)\n",
    "\n",
    "# Create the Axes.\n",
    "ax = fig.add_subplot(gs[1, 0])\n",
    "ax.grid(axis='both', color='0.95')\n",
    "ax_histx = fig.add_subplot(gs[0, 0], sharex=ax)\n",
    "ax_histy = fig.add_subplot(gs[1, 1], sharey=ax)\n",
    "ax_histx.tick_params(axis='y', labelsize=20)\n",
    "ax_histy.tick_params(axis='both', labelsize=20)\n",
    "\n",
    "# Draw the scatter plot and marginals.\n",
    "scatter_hist(x, y, ax, ax_histx, ax_histy)\n",
    "plt.show()"
   ]
  },
  {
   "cell_type": "markdown",
   "id": "ee3c4c46",
   "metadata": {},
   "source": [
    "## Part 2: Generate bivariate Student's $t_\\nu$ samples "
   ]
  },
  {
   "cell_type": "markdown",
   "id": "5f9c7afb",
   "metadata": {},
   "source": [
    "Generate sample of $M$ observations from a chi-square distribution with $\\nu$ degrees of freedom"
   ]
  },
  {
   "cell_type": "code",
   "execution_count": null,
   "id": "03881bb6",
   "metadata": {},
   "outputs": [],
   "source": [
    "S = rng.chisquare(nu,M)"
   ]
  },
  {
   "cell_type": "markdown",
   "id": "644b8bc2",
   "metadata": {},
   "source": [
    "Combine to generate samples from three bivariate Student’s t_{\\nu} distributions with covariance matrices $\\Sigma$."
   ]
  },
  {
   "cell_type": "code",
   "execution_count": null,
   "id": "99586eed",
   "metadata": {},
   "outputs": [],
   "source": [
    "XP = (np.sqrt(nu) / np.sqrt(S)) * ZP\n",
    "XM = (np.sqrt(nu) / np.sqrt(S)) * ZM\n",
    "XZ = (np.sqrt(nu) / np.sqrt(S)) * ZZ"
   ]
  },
  {
   "cell_type": "markdown",
   "id": "df21b67e",
   "metadata": {},
   "source": [
    "Illustrate the distribution with a scatterplot and marginal histograms. Change the definition of $x$ and $y$ to see the difference between correlation values."
   ]
  },
  {
   "cell_type": "code",
   "execution_count": null,
   "id": "80429e18",
   "metadata": {},
   "outputs": [],
   "source": [
    "x=XP[0,:]\n",
    "y=XP[1,:]\n",
    "\n",
    "def scatter_hist(x, y, ax, ax_histx, ax_histy):\n",
    "    # no labels\n",
    "    ax_histx.tick_params(axis=\"x\", labelbottom=False)\n",
    "    ax_histy.tick_params(axis=\"y\", labelleft=False)\n",
    "\n",
    "    # the scatter plot:\n",
    "    ax.scatter(x, y,marker=\".\")\n",
    "    #ax = plt.gca().secondary_xaxis('top')\n",
    "    ax.set_xlabel('$X_1$',fontsize=20)\n",
    "    ax.set_ylabel('$X_2$',fontsize=20)\n",
    "    ax.tick_params(axis='x', labelsize=20)\n",
    "    ax.tick_params(axis='y', labelsize=20)\n",
    "\n",
    "    \n",
    "    # now determine nice limits by hand:\n",
    "    binwidth = 0.0005\n",
    "    xymax = max(np.max(np.abs(x)), np.max(np.abs(y)))\n",
    "    lim = (int(xymax/binwidth) + 1) * binwidth\n",
    "\n",
    "    bins = np.arange(-lim, lim + binwidth, binwidth)\n",
    "    ax_histx.hist(x, bins=bins,density=True)\n",
    "    ax_histy.hist(y, bins=bins, orientation='horizontal',density=True)"
   ]
  },
  {
   "cell_type": "code",
   "execution_count": null,
   "id": "96a850f7",
   "metadata": {},
   "outputs": [],
   "source": [
    "fig = plt.figure(figsize=(10, 10))\n",
    "gs = fig.add_gridspec(2, 2,  width_ratios=(4, 1), height_ratios=(1, 4), left=0.1, right=0.9, bottom=0.1, top=0.9, wspace=0.05, hspace=0.05)\n",
    "\n",
    "# Create the Axes.\n",
    "ax = fig.add_subplot(gs[1, 0])\n",
    "ax.grid(axis='both', color='0.95')\n",
    "ax_histx = fig.add_subplot(gs[0, 0], sharex=ax)\n",
    "ax_histy = fig.add_subplot(gs[1, 1], sharey=ax)\n",
    "ax_histx.tick_params(axis='y', labelsize=20)\n",
    "ax_histy.tick_params(axis='both', labelsize=20)\n",
    "\n",
    "# Draw the scatter plot and marginals.\n",
    "scatter_hist(x, y, ax, ax_histx, ax_histy)\n",
    "plt.show()"
   ]
  },
  {
   "cell_type": "markdown",
   "id": "c1785cf7",
   "metadata": {},
   "source": [
    "## Part 3: The Probability Integral Transform"
   ]
  },
  {
   "cell_type": "markdown",
   "id": "0c7ebc12",
   "metadata": {},
   "source": [
    "Generate $M$ samples from a standard normal distribution"
   ]
  },
  {
   "cell_type": "code",
   "execution_count": null,
   "id": "308a5417",
   "metadata": {},
   "outputs": [],
   "source": [
    "Z=rng.normal(0,1,M)"
   ]
  },
  {
   "cell_type": "markdown",
   "id": "68521c44",
   "metadata": {},
   "source": [
    "Plot a histogram to show the empirical density"
   ]
  },
  {
   "cell_type": "code",
   "execution_count": null,
   "id": "2aa89fe9",
   "metadata": {
    "scrolled": true
   },
   "outputs": [],
   "source": [
    "fig, ax1 = plt.subplots(figsize=(15, 10))\n",
    "plt.hist(Z,bins=50,density=True)\n",
    "plt.xlabel(\"Z\",fontsize=20)\n",
    "plt.xticks(fontsize=20)\n",
    "plt.yticks(fontsize=20)\n",
    "plt.show()"
   ]
  },
  {
   "cell_type": "code",
   "execution_count": null,
   "id": "a155c1cc",
   "metadata": {},
   "outputs": [],
   "source": [
    "U=stats.norm.cdf(Z)"
   ]
  },
  {
   "cell_type": "markdown",
   "id": "2cb18739",
   "metadata": {},
   "source": [
    "Plot a histogram to show the empirical density"
   ]
  },
  {
   "cell_type": "code",
   "execution_count": null,
   "id": "5afa9aac",
   "metadata": {},
   "outputs": [],
   "source": [
    "fig, ax1 = plt.subplots(figsize=(15, 10))\n",
    "plt.hist(U,bins=50,density=True)\n",
    "plt.xlabel(r\"$\\Phi(Z)$\",fontsize=20)\n",
    "plt.xticks(fontsize=20)\n",
    "plt.yticks(fontsize=20)\n",
    "\n",
    "plt.show()"
   ]
  },
  {
   "cell_type": "markdown",
   "id": "a2715805",
   "metadata": {},
   "source": [
    "## Part 4: The Gaussian copula"
   ]
  },
  {
   "cell_type": "markdown",
   "id": "06500e42",
   "metadata": {},
   "source": [
    "Generate samples from a bivariate normal distribution with mean zero and covariance matrix $\\Sigma=\\begin{pmatrix}1 & \\rho\\\\ \\rho & 1\\end{pmatrix}$"
   ]
  },
  {
   "cell_type": "code",
   "execution_count": null,
   "id": "5e58c338",
   "metadata": {},
   "outputs": [],
   "source": [
    "rhoP=0.8; rhoM=-0.8; rhoZ=0.; M=3*10**3\n",
    "sigmaP=np.array([[1,rhoP],[rhoP,1]])\n",
    "sigmaM=np.array([[1,rhoM],[rhoM,1]])\n",
    "sigmaZ=np.array([[1,rhoZ],[rhoZ,1]])\n",
    "AP=np.linalg.cholesky(sigmaP)\n",
    "AM=np.linalg.cholesky(sigmaM)\n",
    "AZ=np.linalg.cholesky(sigmaZ)\n",
    "Z=rng.normal(0,1,(2,M))\n",
    "\n",
    "WP=AP.dot(Z)\n",
    "WM=AM.dot(Z)\n",
    "WZ=AZ.dot(Z)"
   ]
  },
  {
   "cell_type": "markdown",
   "id": "9434a5a6",
   "metadata": {},
   "source": [
    "Apply $\\Phi$ to the marginal data of our bivariate Gaussian sample. By the Probability Integral Transform, this has the effect of making the marginal data uniform while leaving the covariance structure intact.  "
   ]
  },
  {
   "cell_type": "code",
   "execution_count": null,
   "id": "65293982",
   "metadata": {},
   "outputs": [],
   "source": [
    "# Negative correlation\n",
    "WMCDF1=stats.norm.cdf(WM[0,:])\n",
    "WMCDF2=stats.norm.cdf(WM[1,:])\n",
    "\n",
    "# Positive correlation\n",
    "WPCDF1=stats.norm.cdf(WP[0,:])\n",
    "WPCDF2=stats.norm.cdf(WP[1,:])\n",
    "\n",
    "# Zero correlation\n",
    "WZCDF1=stats.norm.cdf(WZ[0,:])\n",
    "WZCDF2=stats.norm.cdf(WZ[1,:])"
   ]
  },
  {
   "cell_type": "markdown",
   "id": "9b14b116",
   "metadata": {},
   "source": [
    "Plot the resulting bivariate distribution."
   ]
  },
  {
   "cell_type": "code",
   "execution_count": null,
   "id": "7cd5e1e9",
   "metadata": {},
   "outputs": [],
   "source": [
    "x=WPCDF1\n",
    "y=WPCDF2\n",
    "\n",
    "def scatter_hist(x, y, ax, ax_histx, ax_histy):\n",
    "    # no labels\n",
    "    ax_histx.tick_params(axis=\"x\", labelbottom=False)\n",
    "    ax_histy.tick_params(axis=\"y\", labelleft=False)\n",
    "\n",
    "    # the scatter plot:\n",
    "    ax.scatter(x, y,marker=\".\")\n",
    "    #ax = plt.gca().secondary_xaxis('top')\n",
    "    ax.set_xlabel(r'$\\Phi(W_1(1))$',fontsize=20)\n",
    "    ax.set_ylabel(r'$\\Phi(W_2(1))$',fontsize=20)\n",
    "    ax.tick_params(axis='x', labelsize=20)\n",
    "    ax.tick_params(axis='y', labelsize=20)\n",
    "    \n",
    "    # now determine nice limits by hand:\n",
    "    binwidth = 0.04\n",
    "    xymax = max(np.max(np.abs(x)), np.max(np.abs(y)))\n",
    "    lim = (int(xymax/binwidth) + 1) * binwidth\n",
    "\n",
    "    bins = np.arange(0, lim + binwidth, binwidth)\n",
    "    ax_histx.hist(x, bins=bins,density=True)\n",
    "    ax_histy.hist(y, bins=bins, orientation='horizontal',density=True)"
   ]
  },
  {
   "cell_type": "code",
   "execution_count": null,
   "id": "e6ab2bf9",
   "metadata": {},
   "outputs": [],
   "source": [
    "fig = plt.figure(figsize=(10, 10))\n",
    "gs = fig.add_gridspec(2, 2,  width_ratios=(4, 1), height_ratios=(1, 4), left=0.1, right=0.9, bottom=0.1, top=0.9, wspace=0.05, hspace=0.05)\n",
    "\n",
    "# Create the Axes.\n",
    "ax = fig.add_subplot(gs[1, 0])\n",
    "ax.grid(axis='both', color='0.95')\n",
    "ax_histx = fig.add_subplot(gs[0, 0], sharex=ax)\n",
    "ax_histy = fig.add_subplot(gs[1, 1], sharey=ax)\n",
    "ax_histx.tick_params(axis='y', labelsize=20)\n",
    "ax_histy.tick_params(axis='both', labelsize=20)\n",
    "\n",
    "# Draw the scatter plot and marginals.\n",
    "scatter_hist(x, y, ax, ax_histx, ax_histy)"
   ]
  },
  {
   "cell_type": "markdown",
   "id": "21b52f41",
   "metadata": {},
   "source": [
    "We can apply the dependency structure captured by the Gaussian copula to Student's t distributed marginal data, using the t.ppf() call from the stats library, which returns a value from the inverse CDF of the Student's $t$ distribution."
   ]
  },
  {
   "cell_type": "code",
   "execution_count": null,
   "id": "73440538",
   "metadata": {},
   "outputs": [],
   "source": [
    "x=stats.t.ppf(WMCDF1,df=5)\n",
    "y=stats.t.ppf(WMCDF2,df=5)\n",
    "\n",
    "def scatter_hist(x, y, ax, ax_histx, ax_histy):\n",
    "    # no labels\n",
    "    ax_histx.tick_params(axis=\"x\", labelbottom=False)\n",
    "    ax_histy.tick_params(axis=\"y\", labelleft=False)\n",
    "\n",
    "    # the scatter plot:\n",
    "    ax.scatter(x, y,marker=\".\")\n",
    "    #ax = plt.gca().secondary_xaxis('top')\n",
    "    ax.set_xlabel(r'$F_{t_5}^{-1}(\\Phi(X_1))$',fontsize=20)\n",
    "    ax.set_ylabel(r'$F_{t_5}^{-1}(\\Phi(X_2))$',fontsize=20)\n",
    "    ax.tick_params(axis='x', labelsize=20)\n",
    "    ax.tick_params(axis='y', labelsize=20)\n",
    "\n",
    "    \n",
    "    # now determine nice limits by hand:\n",
    "    binwidth = 0.1\n",
    "    xymax = max(np.max(np.abs(x)), np.max(np.abs(y)))\n",
    "    lim = (int(xymax/binwidth) + 1) * binwidth\n",
    "\n",
    "    bins = np.arange(-lim, lim + binwidth, binwidth)\n",
    "    ax_histx.hist(x, bins=bins,density=True)\n",
    "    ax_histy.hist(y, bins=bins, orientation='horizontal',density=True)"
   ]
  },
  {
   "cell_type": "code",
   "execution_count": null,
   "id": "8f4fecfb",
   "metadata": {},
   "outputs": [],
   "source": [
    "fig = plt.figure(figsize=(10, 10))\n",
    "gs = fig.add_gridspec(2, 2,  width_ratios=(4, 1), height_ratios=(1, 4), left=0.1, right=0.9, bottom=0.1, top=0.9, wspace=0.05, hspace=0.05)\n",
    "# Create the Axes.\n",
    "ax = fig.add_subplot(gs[1, 0])\n",
    "ax.grid(axis='both', color='0.95')\n",
    "ax_histx = fig.add_subplot(gs[0, 0], sharex=ax)\n",
    "ax_histy = fig.add_subplot(gs[1, 1], sharey=ax)\n",
    "ax_histx.tick_params(axis='y', labelsize=20)\n",
    "ax_histy.tick_params(axis='both', labelsize=20)\n",
    "\n",
    "\n",
    "# Draw the scatter plot and marginals.\n",
    "scatter_hist(x, y, ax, ax_histx, ax_histy)\n",
    "plt.savefig('GCT5MrhoMinus0p8.eps', format='eps',bbox_inches='tight')"
   ]
  },
  {
   "cell_type": "markdown",
   "id": "7cc2d482",
   "metadata": {},
   "source": [
    "We can apply the dependency structure captured by the Gaussian copula to exponentially distributed marginal data, using the expon.ppf() call from the stats library, which returns a value from the inverse CDF of exponential  distribution."
   ]
  },
  {
   "cell_type": "code",
   "execution_count": null,
   "id": "56e55bf5",
   "metadata": {},
   "outputs": [],
   "source": [
    "x=stats.expon.ppf(WPCDF1)\n",
    "y=stats.expon.ppf(WPCDF2)\n",
    "\n",
    "def scatter_hist(x, y, ax, ax_histx, ax_histy):\n",
    "    # no labels\n",
    "    ax_histx.tick_params(axis=\"x\", labelbottom=False)\n",
    "    ax_histy.tick_params(axis=\"y\", labelleft=False)\n",
    "\n",
    "    # the scatter plot:\n",
    "    ax.scatter(x, y,marker=\".\")\n",
    "    #ax = plt.gca().secondary_xaxis('top')\n",
    "    ax.set_xlabel(r'$F_{Exp}^{-1}(\\Phi(X_1))$',fontsize=20)\n",
    "    ax.set_ylabel(r'$F_{Exp}^{-1}(\\Phi(X_2))$',fontsize=20)\n",
    "    ax.tick_params(axis='x', labelsize=20)\n",
    "    ax.tick_params(axis='y', labelsize=20)\n",
    "\n",
    "    \n",
    "    # now determine nice limits by hand:\n",
    "    binwidth = 0.1\n",
    "    xymax = max(np.max(np.abs(x)), np.max(np.abs(y)))\n",
    "    lim = (int(xymax/binwidth) + 1) * binwidth\n",
    "\n",
    "    bins = np.arange(0, lim + binwidth, binwidth)\n",
    "    ax_histx.hist(x, bins=bins,density=True)\n",
    "    ax_histy.hist(y, bins=bins, orientation='horizontal',density=True)"
   ]
  },
  {
   "cell_type": "code",
   "execution_count": null,
   "id": "ffc02596",
   "metadata": {},
   "outputs": [],
   "source": [
    "fig = plt.figure(figsize=(10, 10))\n",
    "gs = fig.add_gridspec(2, 2,  width_ratios=(4, 1), height_ratios=(1, 4), left=0.1, right=0.9, bottom=0.1, top=0.9, wspace=0.05, hspace=0.05)\n",
    "\n",
    "# Create the Axes.\n",
    "ax = fig.add_subplot(gs[1, 0])\n",
    "ax.grid(axis='both', color='0.95')\n",
    "ax_histx = fig.add_subplot(gs[0, 0], sharex=ax)\n",
    "ax_histy = fig.add_subplot(gs[1, 1], sharey=ax)\n",
    "ax_histx.tick_params(axis='y', labelsize=20)\n",
    "ax_histy.tick_params(axis='both', labelsize=20)\n",
    "\n",
    "\n",
    "# Draw the scatter plot and marginals.\n",
    "scatter_hist(x, y, ax, ax_histx, ax_histy)\n",
    "plt.savefig('GCExpMrho0p8.eps', format='eps')"
   ]
  },
  {
   "cell_type": "markdown",
   "id": "7eddabd2",
   "metadata": {},
   "source": [
    "## Part 5: The Student Copula"
   ]
  },
  {
   "cell_type": "markdown",
   "id": "5471e521",
   "metadata": {},
   "source": [
    "We will reuse the samples from a Student's $t_\\nu$ distribution from earlier in the notebook. XM and XP contain samples with negative and positive linear correlation respectively."
   ]
  },
  {
   "cell_type": "markdown",
   "id": "340acd72",
   "metadata": {},
   "source": [
    "First, apply the CDF of the $t_\\nu$ distribution to the marginals of these samples in order to uniformise them via the Probability Integral Transform"
   ]
  },
  {
   "cell_type": "code",
   "execution_count": null,
   "id": "fcb8af8d",
   "metadata": {},
   "outputs": [],
   "source": [
    "# Negative correlation\n",
    "XMCDF1=stats.t.cdf(XM[0,:],df=nu,loc=0,scale=np.sqrt(SigmaM[0,0]))\n",
    "XMCDF2=stats.t.cdf(XM[1,:],df=nu,loc=0,scale=np.sqrt(SigmaM[1,1]))\n",
    "\n",
    "# Positive correlation\n",
    "XPCDF1=stats.t.cdf(XP[0,:],df=nu,loc=0,scale=np.sqrt(SigmaP[0,0]))\n",
    "XPCDF2=stats.t.cdf(XP[1,:],df=nu,loc=0,scale=np.sqrt(SigmaP[1,1]))"
   ]
  },
  {
   "cell_type": "markdown",
   "id": "3014520b",
   "metadata": {},
   "source": [
    "Plot a scatterplot of the sample pairs and marginal histograms"
   ]
  },
  {
   "cell_type": "code",
   "execution_count": null,
   "id": "ca05af70",
   "metadata": {},
   "outputs": [],
   "source": [
    "x=XPCDF1\n",
    "y=XPCDF2\n",
    "\n",
    "def scatter_hist(x, y, ax, ax_histx, ax_histy):\n",
    "    # no labels\n",
    "    ax_histx.tick_params(axis=\"x\", labelbottom=False)\n",
    "    ax_histy.tick_params(axis=\"y\", labelleft=False)\n",
    "\n",
    "    # the scatter plot:\n",
    "    ax.scatter(x, y,marker=\".\")\n",
    "    #ax = plt.gca().secondary_xaxis('top')\n",
    "    ax.set_xlabel(r'$F_{t_\\nu}(X_1)$',fontsize=20)\n",
    "    ax.set_ylabel(r'$F_{t_\\nu}(X_2)$',fontsize=20)\n",
    "    ax.tick_params(axis='x', labelsize=20)\n",
    "    ax.tick_params(axis='y', labelsize=20)\n",
    "\n",
    "    \n",
    "    # now determine nice limits by hand:\n",
    "    binwidth = 0.01\n",
    "    xymax = max(np.max(np.abs(x)), np.max(np.abs(y)))\n",
    "    lim = (int(xymax/binwidth) + 1) * binwidth\n",
    "\n",
    "    bins = np.arange(0, lim + binwidth, binwidth)\n",
    "    ax_histx.hist(x, bins=bins,density=True)\n",
    "    ax_histy.hist(y, bins=bins, orientation='horizontal',density=True)"
   ]
  },
  {
   "cell_type": "code",
   "execution_count": null,
   "id": "b7096c43",
   "metadata": {},
   "outputs": [],
   "source": [
    "# Start with a square Figure.\n",
    "fig = plt.figure(figsize=(10, 10))\n",
    "# Add a gridspec with two rows and two columns and a ratio of 1 to 4 between\n",
    "# the size of the marginal axes and the main axes in both directions.\n",
    "# Also adjust the subplot parameters for a square plot.\n",
    "gs = fig.add_gridspec(2, 2,  width_ratios=(4, 1), height_ratios=(1, 4),\n",
    "                      left=0.1, right=0.9, bottom=0.1, top=0.9,\n",
    "                      wspace=0.05, hspace=0.05)\n",
    "# Create the Axes.\n",
    "ax = fig.add_subplot(gs[1, 0])\n",
    "ax.grid(axis='both', color='0.95')\n",
    "ax_histx = fig.add_subplot(gs[0, 0], sharex=ax)\n",
    "ax_histy = fig.add_subplot(gs[1, 1], sharey=ax)\n",
    "ax_histx.tick_params(axis='y', labelsize=20)\n",
    "ax_histy.tick_params(axis='both', labelsize=20)\n",
    "\n",
    "\n",
    "# Draw the scatter plot and marginals.\n",
    "scatter_hist(x, y, ax, ax_histx, ax_histy)"
   ]
  },
  {
   "cell_type": "markdown",
   "id": "37696b14",
   "metadata": {},
   "source": [
    "Now apply the inverse CDF of a Normal distribution to produce a bivariate distribution with standard Normal marginal data and the dependency structure of a bivariate Student's $t_\\nu$ distribution"
   ]
  },
  {
   "cell_type": "code",
   "execution_count": null,
   "id": "5def9e60",
   "metadata": {},
   "outputs": [],
   "source": [
    "x=stats.norm.ppf(XPCDF1)\n",
    "y=stats.norm.ppf(XPCDF2)\n",
    "\n",
    "def scatter_hist(x, y, ax, ax_histx, ax_histy):\n",
    "    # no labels\n",
    "    ax_histx.tick_params(axis=\"x\", labelbottom=False)\n",
    "    ax_histy.tick_params(axis=\"y\", labelleft=False)\n",
    "\n",
    "    # the scatter plot:\n",
    "    ax.scatter(x, y,marker=\".\")\n",
    "    #ax = plt.gca().secondary_xaxis('top')\n",
    "    ax.set_xlabel(r'$\\Phi^{-1}(F_{t_\\nu}(X_1))$',fontsize=20)\n",
    "    ax.set_ylabel(r'$\\Phi^{-1}(F_{t_\\nu}(X_2))$',fontsize=20)\n",
    "    ax.tick_params(axis='x', labelsize=20)\n",
    "    ax.tick_params(axis='y', labelsize=20)\n",
    "\n",
    "    \n",
    "    # now determine nice limits by hand:\n",
    "    binwidth = 0.1\n",
    "    xymax = max(np.max(np.abs(x)), np.max(np.abs(y)))\n",
    "    lim = (int(xymax/binwidth) + 1) * binwidth\n",
    "\n",
    "    bins = np.arange(-lim, lim + binwidth, binwidth)\n",
    "    ax_histx.hist(x, bins=bins,density=True)\n",
    "    ax_histy.hist(y, bins=bins, orientation='horizontal',density=True)"
   ]
  },
  {
   "cell_type": "code",
   "execution_count": null,
   "id": "37460731",
   "metadata": {
    "scrolled": false
   },
   "outputs": [],
   "source": [
    "# Start with a square Figure.\n",
    "fig = plt.figure(figsize=(10, 10))\n",
    "# Add a gridspec with two rows and two columns and a ratio of 1 to 4 between\n",
    "# the size of the marginal axes and the main axes in both directions.\n",
    "# Also adjust the subplot parameters for a square plot.\n",
    "gs = fig.add_gridspec(2, 2,  width_ratios=(4, 1), height_ratios=(1, 4),\n",
    "                      left=0.1, right=0.9, bottom=0.1, top=0.9,\n",
    "                      wspace=0.05, hspace=0.05)\n",
    "# Create the Axes.\n",
    "ax = fig.add_subplot(gs[1, 0])\n",
    "ax.grid(axis='both', color='0.95')\n",
    "ax_histx = fig.add_subplot(gs[0, 0], sharex=ax)\n",
    "ax_histy = fig.add_subplot(gs[1, 1], sharey=ax)\n",
    "ax_histx.tick_params(axis='y', labelsize=20)\n",
    "ax_histy.tick_params(axis='both', labelsize=20)\n",
    "\n",
    "\n",
    "# Draw the scatter plot and marginals.\n",
    "scatter_hist(x, y, ax, ax_histx, ax_histy)"
   ]
  },
  {
   "cell_type": "markdown",
   "id": "bd3454f3",
   "metadata": {},
   "source": [
    "Now apply the inverse CDF of an exponential distribution with rate parameter $1$ to produce a bivariate distribution with exponential marginal data and the dependency structure of a bivariate Student's $t_\\nu$ distribution"
   ]
  },
  {
   "cell_type": "code",
   "execution_count": null,
   "id": "ef71dd41",
   "metadata": {},
   "outputs": [],
   "source": [
    "x=stats.expon.ppf(XMCDF1)\n",
    "y=stats.expon.ppf(XMCDF2)\n",
    "\n",
    "def scatter_hist(x, y, ax, ax_histx, ax_histy):\n",
    "    # no labels\n",
    "    ax_histx.tick_params(axis=\"x\", labelbottom=False)\n",
    "    ax_histy.tick_params(axis=\"y\", labelleft=False)\n",
    "\n",
    "    # the scatter plot:\n",
    "    ax.scatter(x, y,marker=\".\")\n",
    "    #ax = plt.gca().secondary_xaxis('top')\n",
    "    ax.set_xlabel(r'$F_{Exp}^{-1}(F_{t_\\nu}(X_1))$',fontsize=20)\n",
    "    ax.set_ylabel(r'$F_{Exp}^{-1}(F_{t_\\nu}(X_2))$',fontsize=20)\n",
    "    ax.tick_params(axis='x', labelsize=20)\n",
    "    ax.tick_params(axis='y', labelsize=20)\n",
    "\n",
    "    \n",
    "    # now determine nice limits by hand:\n",
    "    binwidth = 0.1\n",
    "    xymax = max(np.max(np.abs(x)), np.max(np.abs(y)))\n",
    "    lim = (int(xymax/binwidth) + 1) * binwidth\n",
    "\n",
    "    bins = np.arange(0, lim + binwidth, binwidth)\n",
    "    ax_histx.hist(x, bins=bins,density=True)\n",
    "    ax_histy.hist(y, bins=bins, orientation='horizontal',density=True)"
   ]
  },
  {
   "cell_type": "code",
   "execution_count": null,
   "id": "f8e5af0d",
   "metadata": {},
   "outputs": [],
   "source": [
    "# Start with a square Figure.\n",
    "fig = plt.figure(figsize=(10, 10))\n",
    "# Add a gridspec with two rows and two columns and a ratio of 1 to 4 between\n",
    "# the size of the marginal axes and the main axes in both directions.\n",
    "# Also adjust the subplot parameters for a square plot.\n",
    "gs = fig.add_gridspec(2, 2,  width_ratios=(4, 1), height_ratios=(1, 4),\n",
    "                      left=0.1, right=0.9, bottom=0.1, top=0.9,\n",
    "                      wspace=0.05, hspace=0.05)\n",
    "# Create the Axes.\n",
    "ax = fig.add_subplot(gs[1, 0])\n",
    "ax.grid(axis='both', color='0.95')\n",
    "ax_histx = fig.add_subplot(gs[0, 0], sharex=ax)\n",
    "ax_histy = fig.add_subplot(gs[1, 1], sharey=ax)\n",
    "ax_histx.tick_params(axis='y', labelsize=20)\n",
    "ax_histy.tick_params(axis='both', labelsize=20)\n",
    "\n",
    "\n",
    "# Draw the scatter plot and marginals.\n",
    "scatter_hist(x, y, ax, ax_histx, ax_histy)"
   ]
  },
  {
   "cell_type": "markdown",
   "id": "a8f07ab4",
   "metadata": {},
   "source": [
    "## Part 6: Tail dependence"
   ]
  },
  {
   "cell_type": "markdown",
   "id": "f6f0af63",
   "metadata": {},
   "source": [
    "Recall that the upper tail dependence of a bivariate Student copula with $R=0$ is given by\n",
    "$\\lambda_U=2\\left(1-t_{\\nu+1}(\\sqrt{\\nu+1})\\right)$."
   ]
  },
  {
   "cell_type": "code",
   "execution_count": null,
   "id": "03e7c74f",
   "metadata": {},
   "outputs": [],
   "source": [
    "2*(1-stats.t.cdf(np.sqrt(6),df=6))"
   ]
  },
  {
   "cell_type": "markdown",
   "id": "ded43b1b",
   "metadata": {},
   "source": [
    "This is nonzero, even when there is non linear correlation between the marginals."
   ]
  },
  {
   "cell_type": "code",
   "execution_count": null,
   "id": "030b8b5b",
   "metadata": {},
   "outputs": [],
   "source": [
    "lmda = 1; dt = 1;"
   ]
  },
  {
   "cell_type": "code",
   "execution_count": null,
   "id": "cec4a95b",
   "metadata": {},
   "outputs": [],
   "source": [
    "c = 2*lmda*mu"
   ]
  },
  {
   "cell_type": "code",
   "execution_count": null,
   "id": "ef010939",
   "metadata": {},
   "outputs": [],
   "source": [
    "dof = 4*lmda*mu/(sig**2)"
   ]
  },
  {
   "cell_type": "code",
   "execution_count": null,
   "id": "bcf00dc4",
   "metadata": {},
   "outputs": [],
   "source": [
    "ncp = 2*c*r0*np.exp(-lmda*dt)"
   ]
  },
  {
   "cell_type": "code",
   "execution_count": null,
   "id": "8e665273",
   "metadata": {},
   "outputs": [],
   "source": [
    "Y = np.random.noncentral_chisquare(dof,ncp)"
   ]
  }
 ],
 "metadata": {
  "kernelspec": {
   "display_name": "Python 3 (ipykernel)",
   "language": "python",
   "name": "python3"
  },
  "language_info": {
   "codemirror_mode": {
    "name": "ipython",
    "version": 3
   },
   "file_extension": ".py",
   "mimetype": "text/x-python",
   "name": "python",
   "nbconvert_exporter": "python",
   "pygments_lexer": "ipython3",
   "version": "3.11.5"
  }
 },
 "nbformat": 4,
 "nbformat_minor": 5
}
