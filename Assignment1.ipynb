{
 "cells": [
  {
   "cell_type": "markdown",
   "id": "d286021e",
   "metadata": {},
   "source": [
    "# MF4056 - Computational Finance - Assignment 1 \n",
    "\n",
    "### Ben McEnery - 120411954\n",
    "\n"
   ]
  },
  {
   "cell_type": "code",
   "execution_count": 4,
   "id": "30a13266",
   "metadata": {},
   "outputs": [],
   "source": [
    "import numpy as np\n",
    "import math as m\n",
    "import matplotlib.pyplot as plt\n",
    "from mpl_toolkits.mplot3d import axes3d;\n",
    "from scipy.stats import multivariate_normal\n",
    "from ipywidgets import interact\n",
    "from IPython.display import display, Math\n",
    "\n",
    "rng=np.random.default_rng()"
   ]
  },
  {
   "cell_type": "markdown",
   "id": "d053501f",
   "metadata": {},
   "source": [
    "## Question 1"
   ]
  },
  {
   "cell_type": "markdown",
   "id": "1275c6ea",
   "metadata": {},
   "source": [
    "#### Generating trajectories of r.\n",
    "\n",
    "solution to the vasicek model is given by:\n",
    "$$ r(t) = r_{u}e^{-\\alpha (t-u)} + b(1-e^{-\\alpha(t-u)}) + \\sigma\\int_{u}^{t} e^{-\\alpha(t-u)}dW(u)\n",
    "$$\n",
    "Since we have a deterministic function inside the integral $w.r.t$ Brownian motiom $W(t)$\n",
    "$\\implies r(t)$ is gaussian and we can compute it by simulating trajectories from:\n",
    "\n",
    "$$ r(t_{i+1}) \\sim \\mathcal{N}\\left(r(t_i) e^{-\\alpha t_i} + b(1-e^{-\\alpha t_i}), \\frac{\\sigma^2}{2\\alpha}(1-e^{-2\\alpha t_i})\\right)\n",
    "$$\n",
    "\n",
    "Will approximate a solution to the Vasicek model as follows:\n",
    "$$ r_{t_{i+1}} = r_t e^{-\\alpha dt} + b(1-e^{-\\alpha dt}) + \\left(\\frac{\\sigma^2}{2\\alpha}(1-e^{-2\\alpha dt})\\right)^{0.5} B_{t_i},\n",
    "$$\n",
    "where $B_{t_i} \\sim \\mathcal{N}(0,1)$"
   ]
  },
  {
   "cell_type": "code",
   "execution_count": 48,
   "id": "ddd37e71",
   "metadata": {},
   "outputs": [],
   "source": [
    "alpha= 1\n",
    "b = 0.03\n",
    "sigma = 0.05\n",
    "N = 10\n",
    "S=10\n",
    "N=100\n",
    "M=100\n",
    "dt=S/N\n",
    "r = np.zeros((M,N))\n",
    "t = np.linspace(0, S, N)"
   ]
  },
  {
   "cell_type": "code",
   "execution_count": 49,
   "id": "d30000ed",
   "metadata": {},
   "outputs": [],
   "source": [
    "def vasicek(r0 = 0.03):\n",
    "    # intialise the variables\n",
    "    S = 100\n",
    "    N = 1000\n",
    "    dt = S/N\n",
    "    M = 10\n",
    "    r = np.zeros((M,N+1))\n",
    "    r[:,0] = [r0]\n",
    "    count = 0\n",
    "\n",
    "    # compute trajectories of r\n",
    "\n",
    "    W = np.random.normal(0,1,(M, N+1)) # Simulate Brownian motion \n",
    "    for i in range(0,N):\n",
    "        r[:,i+1] = np.exp(-alpha*dt)*(r[:,i]) + b*(1-np.exp(-alpha*dt)) + ((((sigma**2)/(2*alpha))*(1-np.exp(-2*alpha*dt)))**0.5)*W[:,i+1]\n",
    "\n",
    "    # print the results \n",
    "    print(\"The mean is:\", np.mean(r[:,-1]))\n",
    "    print(\"The varaiance is:\", np.var(r[:,-1]))\n",
    "    \n",
    "    # count the negative valeus of r; print the total count\n",
    "    for j in range(0, M):\n",
    "        if any(x<0 for x in r[j,:]) == True:\n",
    "            count += 1\n",
    "    print(\"There are \", count, \" negative trajectories out of a possible\", M)\n",
    "    \n",
    "    # plot the trajectories\n",
    "    t = np.linspace(0, S, N+1)\n",
    "    for i in range(0,M):\n",
    "        plt.plot(t, r[i,:])"
   ]
  },
  {
   "cell_type": "code",
   "execution_count": 50,
   "id": "baf7239d",
   "metadata": {
    "scrolled": false
   },
   "outputs": [
    {
     "data": {
      "application/vnd.jupyter.widget-view+json": {
       "model_id": "d4dbf0b9f17e4e0e8ae5f17f7505bf67",
       "version_major": 2,
       "version_minor": 0
      },
      "text/plain": [
       "interactive(children=(FloatSlider(value=0.03, description='r0', max=1.0, step=0.01), Output()), _dom_classes=(…"
      ]
     },
     "metadata": {},
     "output_type": "display_data"
    }
   ],
   "source": [
    "interact(vasicek, r0 =(0,1,0.01))\n",
    "plt.show()"
   ]
  },
  {
   "cell_type": "markdown",
   "id": "9c58608f",
   "metadata": {},
   "source": [
    "***Justtification of interval:*** $S=0, N = 1000$\n",
    "\n",
    "**Accuary:*** a smaller time step will insure a more accurate simulation. Because we are working on a machine that can only work in finite time the smaller we choose $dt$ (i.e. more time steps $N$ larger). We choose N large enough so that we can get an accuarte answer, but also not too large so that it takes longer time to run\n",
    "\n",
    "**Convergence:** Since $r(t)$ follows a vasicek model, $\\alpha$ in our case can be taught of as the speed of mean-reversion; how quick the process reverts back to the mean. We want to chose a simulation time that gives the process enough time to revert back to it's mean. The half life of this proccess is $\\frac{\\log(2)}{\\alpha}$, and for $\\alpha = 1$ the half life is 0.69314... So we choose $S=10$ to ensure the process coverges to it's mean value of b\n",
    "\n",
    "***Asymptotic Properties:*** Can clearly clearly see that when we move the slider for $r_0$, no matter what the value is the the values of r always converge to the mean of $b = 0.01$. Take $r_0 = 0.85$ as an example. All the trajectories initially go downwards, and start to converge around the mean of 0.01. Due to the mean being so close to 0; there is always going to be somne values that are **negative**. For our case the $Var[r(t)] = 0.01125$ which when will give a negative value for the first standard deviation away from the mean. \n",
    "\n",
    "Negtative interet rates are often viewed as a drawback of the VAsicek model, as negative rates are not favoured in an economic context. Central banks often use this unusual policy when there are strong signs of deflation. The ECB did this in 2014 to try and revive the Eurozone economy. A policy likes this charges commercial banks for holding excess reserves - encouraging them to lend more money."
   ]
  },
  {
   "cell_type": "markdown",
   "id": "2a5c1fc6",
   "metadata": {},
   "source": [
    "   "
   ]
  },
  {
   "cell_type": "markdown",
   "id": "2628bf5a",
   "metadata": {},
   "source": [
    "### Question 2\n",
    "\n",
    "#### 3D plot of bivariate gaussian pair $\\left(r(T), \\int_{0}^{T} r(s) ds\\right)$\n",
    "\n",
    "It can be shown that $Y(t) = \\int_0^t r(s) ds$ has conditinal density:\n",
    "$$\n",
    "(Y(t) | r(s)) \\sim \\mathcal{N}\\left(e^{-\\alpha(t-s)}r_s + m_r(u,t), \\sigma^2_Y2(u,t)\\right)\n",
    "$$\n",
    "where\n",
    "$$\n",
    "m_Y(u, t) = \\frac{1}{\\alpha} (r_u + b) \\left(1 - e^{-\\alpha(t-u)}\\right) + b(t - u),\n",
    "$$\n",
    "and\n",
    "$$\n",
    "\\sigma^2_Y(u, t) = \\frac{\\sigma^2}{\\alpha^2} \\left( (t - u) + \\frac{1}{2\\alpha} \\left(1 - e^{-2\\alpha(t-u)}\\right) + \\frac{2}{\\alpha} \\left(e^{-\\alpha(t-u)} - 1\\right) \\right).\n",
    "$$\n",
    "\n",
    "Moreover, the covariance of the increments of $r$ and $Y$ is given by\n",
    "$$\n",
    "\\sigma_{r,Y} (u, t) = \\frac{\\sigma^2}{2\\alpha} \\left(1 + e^{-2\\alpha(t-u)} - 2e^{-\\alpha(t-u)}\\right),\n",
    "$$\n",
    "\n",
    "with corresponding correltion\n",
    "$$\n",
    "\\rho_{r,Y} (u, t) = \\frac{\\sigma_{r,Y}(u, t)}{\\sigma_r(u, t)\\sigma_Y(u, t)}\n",
    "$$\n",
    "\n",
    "Can find solutions to sample paths of the gaussian pair $\\left(r(t), Y(t)\\right)$ by the follwing:\n",
    "\n",
    "\\begin{equation}\n",
    "\\begin{bmatrix} r(t)\\\\ Y(t) \\end{bmatrix} = \n",
    "\\begin{bmatrix} e^{-\\alpha(t-u)}r_s\\\\ Y_u \\end{bmatrix} + \\begin{bmatrix} m_t(u,t)\\\\ m_Y(u,t)\\end{bmatrix} +\n",
    "\\begin{bmatrix} \\sigma_r(u,t) & 0 \\\\ 0 & \\sigma_Y(u,t)\\end{bmatrix}A_{r,Y} Z\n",
    "\\end{equation}\n",
    "\n",
    "where $Z = [Z_1, Z_2]^T$ is a pair of i.i.d RV where each $Z_i \\sim\\mathcal{N}\\left(0,1\\right)$"
   ]
  },
  {
   "cell_type": "code",
   "execution_count": 20,
   "id": "c154052d",
   "metadata": {},
   "outputs": [],
   "source": [
    "# Define parameters:\n",
    "S = 10; N = 100; dt = S/N; alpha = 1; b = 0.03; sigma = 0.2; r0 = 0.04\n",
    "\n",
    "# Define the functions needed for simulation\n",
    "def mr(dt):\n",
    "    return b*(1-np.exp(-alpha*dt))\n",
    "              \n",
    "def sigmar(dt):\n",
    "    return np.sqrt((1-np.exp(-2*alpha*dt))*(sigma**2)/(2*alpha))\n",
    "              \n",
    "def mY(dt):\n",
    "    return (1/alpha)*(r0+b)*(1-np.exp(-alpha*dt))+b*dt\n",
    "              \n",
    "def sigmaY(dt):\n",
    "    return (sigma/alpha)*np.sqrt(dt+(0.5/alpha)*(1-np.exp(-2*alpha*dt))+(2/alpha)*(np.exp(-alpha*dt)-1))\n",
    "              \n",
    "def covrY(dt):\n",
    "    return ((sigma**2)/(2*alpha))*(1+np.exp(-2*alpha*dt)-2*np.exp(-alpha*dt))\n",
    "              \n",
    "def rhorY(dt):\n",
    "    return covrY(dt)/(sigmar(dt)*sigmaY(dt))\n"
   ]
  },
  {
   "cell_type": "code",
   "execution_count": 12,
   "id": "38acbd49",
   "metadata": {},
   "outputs": [],
   "source": [
    "def interactive(r0 = 0.04):\n",
    "    T = 0.5\n",
    "    N1 = int(T/dt)\n",
    "    Y0 = r0*T\n",
    "    \n",
    "    M = 500\n",
    "    rmean = rvar = np.zeros(M)\n",
    "    ymean = yvar = np.zeros(M)\n",
    "    cor = np.zeros(M)\n",
    "    \n",
    "    Z = np.random.normal(0,1, (2,M))\n",
    "    s=T*np.array([[1,rhorY(T)],[rhorY(T),1]])\n",
    "    A=np.linalg.cholesky(s)   \n",
    "    \n",
    "    rY1=A.dot(Z)\n",
    "    rY2=A.dot(Z)\n",
    "    \n",
    "    rY2[0,:]=np.exp(-alpha*T)*r0+mr(T)+sigmar(T)*rY1[0,:]\n",
    "    rY2[1,:]=Y0+mY(T)+sigmaY(T)*rY1[1,:]\n",
    "    \n",
    "    mu_r = np.mean(rY2[0,:])\n",
    "    mu_y = np.mean(rY2[1,:])\n",
    "    var_r = np.var(rY2[0,:]); sd_r = np.sqrt(var_r)\n",
    "    var_y = np.var(rY2[1,:]); sd_y = np.sqrt(var_y)\n",
    "    corr = np.cov(rY2[0,:], rY2[1,:])\n",
    "    \n",
    "    x = np.linspace(-0.25, 0.25, 100)\n",
    "    y = np.linspace(-0.1, 0.3, 100)\n",
    "    X, Y = np.meshgrid(x, y)\n",
    "    pos = np.dstack((X, Y))\n",
    "    mu = np.array([mu_r, mu_y])\n",
    "    cov = np.array([[var_r,corr[0,1]], [corr[1,0], var_y]])\n",
    "    rv = multivariate_normal(mu, cov)\n",
    "    Z = rv.pdf(pos)\n",
    "    fig = plt.figure()\n",
    "    ax = fig.add_subplot(111, projection = '3d')\n",
    "    ax.plot_surface(X, Y, Z)\n",
    "    ax.set_xlabel(\"$r(t)$\")\n",
    "    ax.set_ylabel(\"$\\int_0^t r(t)$\")\n",
    "    ax.set_zlabel(\"Density\")\n",
    "    ax.set_title(\"Joint Distribution\")\n",
    "    plt.show()\n",
    "    "
   ]
  },
  {
   "cell_type": "code",
   "execution_count": 21,
   "id": "81eef52d",
   "metadata": {
    "scrolled": false
   },
   "outputs": [
    {
     "data": {
      "application/vnd.jupyter.widget-view+json": {
       "model_id": "2e1337f62c3d4de282770a2e56997fdb",
       "version_major": 2,
       "version_minor": 0
      },
      "text/plain": [
       "interactive(children=(FloatSlider(value=0.04, description='r0', max=0.5, min=-0.5, step=0.01), Output()), _dom…"
      ]
     },
     "metadata": {},
     "output_type": "display_data"
    }
   ],
   "source": [
    "interact(interactive, r0 = (-0.5,0.5, 0.01)) # negative values also given as vasicek can give negative values!\n",
    "plt.show()"
   ]
  },
  {
   "cell_type": "markdown",
   "id": "e8ce2e37",
   "metadata": {},
   "source": [
    "#### NOTE: values for the x-axis and the y-axis were chosen to fit the curve in the center when plotting for $r_0 = 0.3$"
   ]
  },
  {
   "cell_type": "markdown",
   "id": "af5a5129",
   "metadata": {},
   "source": [
    "## Question 3"
   ]
  },
  {
   "cell_type": "markdown",
   "id": "838fb4fa",
   "metadata": {},
   "source": [
    "#### Monte Carlo Valuation of Call Option on Zero Coupon Bond\n",
    "\n",
    "Price of call option is given by: \n",
    "$$ P(r, t, S) = e^{A(t,S) - B(t,S)r}$$\n",
    "where \n",
    "$$\n",
    "B(t,S) = \\frac{1}{\\alpha} \\left(1-e^{-\\alpha(t-S)}\\right)\\\\\n",
    "A(t,s) =(B(t,S) - (S-t) \\left(b - \\frac{\\sigma^2}{2\\alpha^2}\\right) - \\frac{\\sigma^2}{4\\alpha} B(t,S)^2\n",
    "$$"
   ]
  },
  {
   "cell_type": "code",
   "execution_count": 51,
   "id": "bb59e19d",
   "metadata": {},
   "outputs": [],
   "source": [
    "# intialise values\n",
    "S = 10; N = 500; dt = S/N; alpha = 1; b = 0.04; sigma = 0.15; r0 = 0.03\n",
    "\n",
    "# Define the functions needed for simulation\n",
    "def mr(dt):\n",
    "    return b*(1-np.exp(-alpha*dt))\n",
    "              \n",
    "def sigmar(dt):\n",
    "    return np.sqrt((1-np.exp(-2*alpha*dt))*(sigma**2)/(2*alpha))\n",
    "              \n",
    "def mY(dt):\n",
    "    return (1/alpha)*(r0+b)*(1-np.exp(-alpha*dt))+b*dt\n",
    "              \n",
    "def sigmaY(dt):\n",
    "    return (sigma/alpha)*np.sqrt(dt+(0.5/alpha)*(1-np.exp(-2*alpha*dt))+(2/alpha)*(np.exp(-alpha*dt)-1))\n",
    "              \n",
    "def covrY(dt):\n",
    "    return ((sigma**2)/(2*alpha))*(1+np.exp(-2*alpha*dt)-2*np.exp(-alpha*dt))\n",
    "              \n",
    "def rhorY(dt):\n",
    "    return covrY(dt)/(sigmar(dt)*sigmaY(dt))\n"
   ]
  },
  {
   "cell_type": "code",
   "execution_count": 52,
   "id": "6b10b7fb",
   "metadata": {},
   "outputs": [],
   "source": [
    "S = 10; N = 100; dt = int(S/N); alpha = 1; b = 0.04; sigma = 0.15; r0 = 0.03; M = 1000\n",
    "\n",
    "\n",
    "r = np.zeros(M)\n",
    "y = np.zeros(M)\n",
    "A = np.zeros(M)\n",
    "B = np.zeros(M)\n",
    "P = np.zeros(M)"
   ]
  },
  {
   "cell_type": "code",
   "execution_count": 53,
   "id": "5a61511d",
   "metadata": {},
   "outputs": [],
   "source": [
    "# Define function that will return the mean price of call option\n",
    "def bond_option_price(r0, T, S, K):\n",
    "    N = 100\n",
    "    dt = T/N\n",
    "    t = np.linspace(0, T, int(N))\n",
    "    r[0] = r0\n",
    "    y[0] = r[0] * T\n",
    "    B[0] = 1/alpha * (1-np.exp(-alpha*S))\n",
    "    A[0] = (B[0] - S) * (b - (sigma**2)/(S*alpha**2)) - ((sigma**2)/4*alpha) * B[0]**2\n",
    "    \n",
    "    # Monte carlo Evaluation \n",
    "    M = 1000\n",
    "    final_price = np.zeros(M)\n",
    "    for j in range(M):\n",
    "        Z = np.random.normal(0,1, (2,N+1))\n",
    "        for i in range(N-1):\n",
    "            r[i+1] = np.exp(-alpha*dt)*r[i] + mr(dt) + sigmar(dt)*Z[0,i+1]\n",
    "            y[i+1] = y[i] + mY(dt)*r[i] + (b/alpha)*(alpha*dt - 1 + np.exp(-alpha*dt)) + sigmaY(dt)*(rhorY(dt)*Z[0,i+1] + ((((1-rhorY(dt))**2)**0.5) * Z[1,i+1]))\n",
    "            B[i+1] = (1/alpha)*(1-np.exp(-alpha*(S-t[i])))\n",
    "            A[i+1] = (B[i]-(S-t[i])) * (b-((sigma**2)/(2*(alpha**2)))) - (sigma**2/4*alpha)*(B[i]**2)\n",
    "            P[i+1] = np.exp(A[i] - B[i]*r[i])\n",
    "        final_price[j] = P[N-1]\n",
    "        \n",
    "    # Compute the necessary Statistics    \n",
    "    value = np.exp(-1*y) * np.maximum(final_price-K, 0)\n",
    "    mean_price = np.mean(value)\n",
    "    sd_price = np.std(value)\n",
    "    CI_price = [mean_price - 1.96*(sd_price/np.sqrt(M)), mean_price + 1.96*(sd_price/np.sqrt(M))]\n",
    "    CI_len  = CI_price[1] = CI_price[0]\n",
    "    print(\"Mean value of Call Option is:\", mean_price, \n",
    "          \"\\nStadard Deciation of Call Option is:\", sd_price,\n",
    "          \"\\n95% Confidence Interval for Call Option is:\", CI_price, \n",
    "          \"\\nLength of Confidence Interval: \", CI_len\n",
    "          )"
   ]
  },
  {
   "cell_type": "code",
   "execution_count": 56,
   "id": "0e5f6a4b",
   "metadata": {},
   "outputs": [
    {
     "name": "stdout",
     "output_type": "stream",
     "text": [
      "Mean value of Call Option is: 0.005747418327311906 \n",
      "Stadard Deciation of Call Option is: 0.012912831258065229 \n",
      "95% Confidence Interval for Call Option is: [0.004947072754100595, 0.004947072754100595] \n",
      "Length of Confidence Interval:  0.004947072754100595\n"
     ]
    }
   ],
   "source": [
    "bond_option_price(0.04,  0.5, 1, 1)"
   ]
  },
  {
   "cell_type": "code",
   "execution_count": null,
   "id": "269b0366",
   "metadata": {},
   "outputs": [],
   "source": []
  },
  {
   "cell_type": "code",
   "execution_count": null,
   "id": "d234b638",
   "metadata": {},
   "outputs": [],
   "source": []
  }
 ],
 "metadata": {
  "kernelspec": {
   "display_name": "Python 3 (ipykernel)",
   "language": "python",
   "name": "python3"
  },
  "language_info": {
   "codemirror_mode": {
    "name": "ipython",
    "version": 3
   },
   "file_extension": ".py",
   "mimetype": "text/x-python",
   "name": "python",
   "nbconvert_exporter": "python",
   "pygments_lexer": "ipython3",
   "version": "3.11.5"
  }
 },
 "nbformat": 4,
 "nbformat_minor": 5
}
